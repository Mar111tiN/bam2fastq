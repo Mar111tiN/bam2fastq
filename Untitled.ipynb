{
 "cells": [
  {
   "cell_type": "code",
   "execution_count": 1,
   "metadata": {
    "ExecuteTime": {
     "end_time": "2020-04-21T16:41:49.775254Z",
     "start_time": "2020-04-21T16:41:49.624806Z"
    }
   },
   "outputs": [
    {
     "name": "stdout",
     "output_type": "stream",
     "text": [
      "QUICKsnake.sh   Untitled.ipynb  \u001b[34mbam\u001b[m\u001b[m/            samples.txt\r\n",
      "Snakefile       align-env.yml   \u001b[34mfastq\u001b[m\u001b[m/\r\n"
     ]
    }
   ],
   "source": [
    "ls"
   ]
  },
  {
   "cell_type": "code",
   "execution_count": 1,
   "metadata": {
    "ExecuteTime": {
     "end_time": "2020-04-21T20:15:50.883874Z",
     "start_time": "2020-04-21T20:15:50.872957Z"
    }
   },
   "outputs": [],
   "source": [
    "test = pd.read_csv('samples.txt', header=None)"
   ]
  },
  {
   "cell_type": "code",
   "execution_count": 8,
   "metadata": {
    "ExecuteTime": {
     "end_time": "2020-04-21T16:42:29.398046Z",
     "start_time": "2020-04-21T16:42:29.392741Z"
    }
   },
   "outputs": [
    {
     "data": {
      "text/plain": [
       "['D13A',\n",
       " 'D13B',\n",
       " 'D14A',\n",
       " 'D14B',\n",
       " 'D15A',\n",
       " 'D15B',\n",
       " 'D22A',\n",
       " 'D22B',\n",
       " 'D24A',\n",
       " 'D24B',\n",
       " 'D25A',\n",
       " 'D25B',\n",
       " 'D28A',\n",
       " 'D28B',\n",
       " 'D34A',\n",
       " 'D34B',\n",
       " 'D35A',\n",
       " 'D35B',\n",
       " 'D36A',\n",
       " 'D36B',\n",
       " 'LK10A2',\n",
       " 'LK10A',\n",
       " 'LK10B',\n",
       " 'LK12A',\n",
       " 'LK12B',\n",
       " 'LK16A',\n",
       " 'LK16B',\n",
       " 'LK18A',\n",
       " 'LK18B',\n",
       " 'LK19A',\n",
       " 'LK19B',\n",
       " 'LK1A',\n",
       " 'LK1B',\n",
       " 'LK20A',\n",
       " 'LK20B',\n",
       " 'LK21A',\n",
       " 'LK21B',\n",
       " 'LK23A',\n",
       " 'LK23B',\n",
       " 'LK2A',\n",
       " 'LK2B',\n",
       " 'LK3A',\n",
       " 'LK3B',\n",
       " 'LK4A',\n",
       " 'LK4B']"
      ]
     },
     "execution_count": 8,
     "metadata": {},
     "output_type": "execute_result"
    }
   ],
   "source": [
    "list(test.iloc[:,0])"
   ]
  },
  {
   "cell_type": "code",
   "execution_count": 2,
   "metadata": {
    "ExecuteTime": {
     "end_time": "2020-04-21T20:16:29.768878Z",
     "start_time": "2020-04-21T20:16:29.761606Z"
    }
   },
   "outputs": [],
   "source": [
    "test['Lane'] = \"001\"\n",
    "test = test.rename(columns={0:\"sample\"})\n",
    "repl = lambda m: \"_\" + m.group(1)\n",
    "test['name'] = test['sample'].str.replace(\"([AB][12]?)\", repl)\n",
    "# test.to_csv('DLBCL_sheet.csv', sep='\\t')"
   ]
  },
  {
   "cell_type": "code",
   "execution_count": 32,
   "metadata": {
    "ExecuteTime": {
     "end_time": "2020-04-21T20:24:14.207944Z",
     "start_time": "2020-04-21T20:24:14.190953Z"
    }
   },
   "outputs": [
    {
     "data": {
      "text/html": [
       "<div>\n",
       "<style scoped>\n",
       "    .dataframe tbody tr th:only-of-type {\n",
       "        vertical-align: middle;\n",
       "    }\n",
       "\n",
       "    .dataframe tbody tr th {\n",
       "        vertical-align: top;\n",
       "    }\n",
       "\n",
       "    .dataframe thead th {\n",
       "        text-align: right;\n",
       "    }\n",
       "</style>\n",
       "<table border=\"1\" class=\"dataframe\">\n",
       "  <thead>\n",
       "    <tr style=\"text-align: right;\">\n",
       "      <th></th>\n",
       "      <th>index</th>\n",
       "      <th>sample</th>\n",
       "      <th>Lane</th>\n",
       "      <th>name</th>\n",
       "      <th>TN</th>\n",
       "    </tr>\n",
       "  </thead>\n",
       "  <tbody>\n",
       "    <tr>\n",
       "      <th>0</th>\n",
       "      <td>0</td>\n",
       "      <td>D13</td>\n",
       "      <td>001</td>\n",
       "      <td>D13_A</td>\n",
       "      <td>A</td>\n",
       "    </tr>\n",
       "    <tr>\n",
       "      <th>1</th>\n",
       "      <td>1</td>\n",
       "      <td>D13</td>\n",
       "      <td>001</td>\n",
       "      <td>D13_B</td>\n",
       "      <td>B</td>\n",
       "    </tr>\n",
       "    <tr>\n",
       "      <th>2</th>\n",
       "      <td>2</td>\n",
       "      <td>D14</td>\n",
       "      <td>001</td>\n",
       "      <td>D14_A</td>\n",
       "      <td>A</td>\n",
       "    </tr>\n",
       "    <tr>\n",
       "      <th>3</th>\n",
       "      <td>3</td>\n",
       "      <td>D14</td>\n",
       "      <td>001</td>\n",
       "      <td>D14_B</td>\n",
       "      <td>B</td>\n",
       "    </tr>\n",
       "    <tr>\n",
       "      <th>4</th>\n",
       "      <td>4</td>\n",
       "      <td>D15</td>\n",
       "      <td>001</td>\n",
       "      <td>D15_A</td>\n",
       "      <td>A</td>\n",
       "    </tr>\n",
       "    <tr>\n",
       "      <th>5</th>\n",
       "      <td>5</td>\n",
       "      <td>D15</td>\n",
       "      <td>001</td>\n",
       "      <td>D15_B</td>\n",
       "      <td>B</td>\n",
       "    </tr>\n",
       "    <tr>\n",
       "      <th>6</th>\n",
       "      <td>6</td>\n",
       "      <td>D22</td>\n",
       "      <td>001</td>\n",
       "      <td>D22_A</td>\n",
       "      <td>A</td>\n",
       "    </tr>\n",
       "    <tr>\n",
       "      <th>7</th>\n",
       "      <td>7</td>\n",
       "      <td>D22</td>\n",
       "      <td>001</td>\n",
       "      <td>D22_B</td>\n",
       "      <td>B</td>\n",
       "    </tr>\n",
       "    <tr>\n",
       "      <th>8</th>\n",
       "      <td>8</td>\n",
       "      <td>D24</td>\n",
       "      <td>001</td>\n",
       "      <td>D24_A</td>\n",
       "      <td>A</td>\n",
       "    </tr>\n",
       "    <tr>\n",
       "      <th>9</th>\n",
       "      <td>9</td>\n",
       "      <td>D24</td>\n",
       "      <td>001</td>\n",
       "      <td>D24_B</td>\n",
       "      <td>B</td>\n",
       "    </tr>\n",
       "  </tbody>\n",
       "</table>\n",
       "</div>"
      ],
      "text/plain": [
       "   index sample Lane   name TN\n",
       "0      0    D13  001  D13_A  A\n",
       "1      1    D13  001  D13_B  B\n",
       "2      2    D14  001  D14_A  A\n",
       "3      3    D14  001  D14_B  B\n",
       "4      4    D15  001  D15_A  A\n",
       "5      5    D15  001  D15_B  B\n",
       "6      6    D22  001  D22_A  A\n",
       "7      7    D22  001  D22_B  B\n",
       "8      8    D24  001  D24_A  A\n",
       "9      9    D24  001  D24_B  B"
      ]
     },
     "execution_count": 32,
     "metadata": {},
     "output_type": "execute_result"
    }
   ],
   "source": [
    "samples = test.reset_index()\n",
    "samples[['sample', 'TN']] = samples['name'].str.extract('(?P<sample>^[^_]+)_(?P<TN>[^_]+)$')\n",
    "tumor = ['A', 'A2']\n",
    "normal = 'B'\n",
    "\n",
    "samples[:10]"
   ]
  },
  {
   "cell_type": "code",
   "execution_count": 45,
   "metadata": {
    "ExecuteTime": {
     "end_time": "2020-04-21T20:27:43.946206Z",
     "start_time": "2020-04-21T20:27:43.941658Z"
    }
   },
   "outputs": [],
   "source": [
    "def TN_pair(group):\n",
    "    if normal in list(group['TN']):\n",
    "        TN_list = []\n",
    "        for t in tumor:\n",
    "            if t in list(group['TN']):\n",
    "                TN_list.append(f\"{group['sample'].iloc[0]}_{t}-{normal}\")\n",
    "        return pd.Series(TN_list)"
   ]
  },
  {
   "cell_type": "code",
   "execution_count": 54,
   "metadata": {
    "ExecuteTime": {
     "end_time": "2020-04-21T20:29:19.063879Z",
     "start_time": "2020-04-21T20:29:19.040918Z"
    }
   },
   "outputs": [
    {
     "data": {
      "text/plain": [
       "0       D13_A-B\n",
       "1       D14_A-B\n",
       "2       D15_A-B\n",
       "3       D22_A-B\n",
       "4       D24_A-B\n",
       "5       D25_A-B\n",
       "6       D28_A-B\n",
       "7       D34_A-B\n",
       "8       D35_A-B\n",
       "9       D36_A-B\n",
       "10      LK1_A-B\n",
       "11     LK10_A-B\n",
       "12    LK10_A2-B\n",
       "13     LK12_A-B\n",
       "14     LK16_A-B\n",
       "15     LK18_A-B\n",
       "16     LK19_A-B\n",
       "17      LK2_A-B\n",
       "18     LK20_A-B\n",
       "19     LK21_A-B\n",
       "20     LK23_A-B\n",
       "21      LK3_A-B\n",
       "22      LK4_A-B\n",
       "Name: 0, dtype: object"
      ]
     },
     "execution_count": 54,
     "metadata": {},
     "output_type": "execute_result"
    }
   ],
   "source": [
    "samples.groupby('sample').apply(TN_pair).reset_index().iloc[:,-1]"
   ]
  },
  {
   "cell_type": "code",
   "execution_count": 31,
   "metadata": {
    "ExecuteTime": {
     "end_time": "2020-04-21T20:23:56.025476Z",
     "start_time": "2020-04-21T20:23:56.020983Z"
    }
   },
   "outputs": [
    {
     "data": {
      "text/plain": [
       "True"
      ]
     },
     "execution_count": 31,
     "metadata": {},
     "output_type": "execute_result"
    }
   ],
   "source": [
    "'A' in ['A', 'B']"
   ]
  },
  {
   "cell_type": "code",
   "execution_count": null,
   "metadata": {},
   "outputs": [],
   "source": []
  }
 ],
 "metadata": {
  "kernelspec": {
   "display_name": "Python 3",
   "language": "python",
   "name": "python3"
  },
  "language_info": {
   "codemirror_mode": {
    "name": "ipython",
    "version": 3
   },
   "file_extension": ".py",
   "mimetype": "text/x-python",
   "name": "python",
   "nbconvert_exporter": "python",
   "pygments_lexer": "ipython3",
   "version": "3.8.2"
  },
  "varInspector": {
   "cols": {
    "lenName": 16,
    "lenType": 16,
    "lenVar": 40
   },
   "kernels_config": {
    "python": {
     "delete_cmd_postfix": "",
     "delete_cmd_prefix": "del ",
     "library": "var_list.py",
     "varRefreshCmd": "print(var_dic_list())"
    },
    "r": {
     "delete_cmd_postfix": ") ",
     "delete_cmd_prefix": "rm(",
     "library": "var_list.r",
     "varRefreshCmd": "cat(var_dic_list()) "
    }
   },
   "types_to_exclude": [
    "module",
    "function",
    "builtin_function_or_method",
    "instance",
    "_Feature"
   ],
   "window_display": false
  }
 },
 "nbformat": 4,
 "nbformat_minor": 4
}
